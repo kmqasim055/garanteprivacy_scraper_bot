{
 "cells": [
  {
   "cell_type": "code",
   "execution_count": 1,
   "id": "20205520",
   "metadata": {},
   "outputs": [],
   "source": [
    "from time import sleep\n",
    "from requests import options\n",
    "import selenium\n",
    "from selenium.webdriver.common.by import By\n",
    "from selenium.webdriver.chrome.options import Options\n",
    "import pandas as pd\n",
    "from fake_useragent import UserAgent\n",
    "import random\n",
    "from random import randint\n",
    "from selenium.webdriver.common.keys import Keys\n",
    "import string\n",
    "import time\n",
    "from selenium import webdriver\n",
    "from selenium.webdriver.support.ui import WebDriverWait \n",
    "from selenium.webdriver.support import expected_conditions as EC"
   ]
  },
  {
   "cell_type": "code",
   "execution_count": 2,
   "id": "1071aa80",
   "metadata": {},
   "outputs": [],
   "source": [
    "url = 'https://www.garanteprivacy.it/home/ricerca/-/search/key/d'"
   ]
  },
  {
   "cell_type": "code",
   "execution_count": 3,
   "id": "13c2ada9",
   "metadata": {},
   "outputs": [
    {
     "name": "stderr",
     "output_type": "stream",
     "text": [
      "Error getting version of chromedriver 115. Retrying with chromedriver 114 (attempt 1/5)\n"
     ]
    }
   ],
   "source": [
    "from webdriver_manager.chrome import ChromeDriverManager\n",
    "driver = webdriver.Chrome()\n",
    "driver.get(url)"
   ]
  },
  {
   "cell_type": "code",
   "execution_count": 5,
   "id": "ec8399fa",
   "metadata": {},
   "outputs": [],
   "source": [
    "title = []\n",
    "link = []\n",
    "file_link = []\n",
    "date = []"
   ]
  },
  {
   "cell_type": "code",
   "execution_count": 6,
   "id": "ef3c95b5",
   "metadata": {},
   "outputs": [
    {
     "name": "stdout",
     "output_type": "stream",
     "text": [
      "Enter 1 to choose dates option else press 0 to skip it : 0\n"
     ]
    }
   ],
   "source": [
    "choice = int(input(\"Enter 1 to choose dates option else press 0 to skip it : \"))\n",
    "if choice == 1:\n",
    "    def convert_date_format(input_date):\n",
    "        # Convert date from yyyy-mm-dd to mm/dd/yyyy format\n",
    "        parts = input_date.split(\"-\")\n",
    "        return f\"{parts[1]}/{parts[2]}/{parts[0]}\"\n",
    "    # Find the date input field using its ID\n",
    "    date_input = driver.find_element(By.ID, \"_g_gpdp5_search_GGpdp5SearchPortlet_dataInizio\")\n",
    "\n",
    "    # Clear the existing value (optional)\n",
    "    date_input.clear()\n",
    "\n",
    "    # Enter the desired date\n",
    "    desired_date = input(\"Enter starting date using format (yyyy-mm-dd) \")  # Replace this with the date you want to enter\n",
    "    formatted_date = convert_date_format(desired_date)\n",
    "    date_input.send_keys(formatted_date)\n",
    "\n",
    "    # Trigger the 'onchange' event (optional, if the date input has any event tied to it)\n",
    "    date_input.send_keys(Keys.TAB)\n",
    "\n",
    "    # Wait for a short time (optional, you can adjust this based on the page's behavior)\n",
    "    time.sleep(1)\n",
    "\n",
    "    # Find the date input field using its ID\n",
    "    date_input = driver.find_element(By.ID, \"_g_gpdp5_search_GGpdp5SearchPortlet_dataFine\")\n",
    "\n",
    "    # Clear the existing value (optional)\n",
    "    date_input.clear()\n",
    "\n",
    "    # Enter the desired date\n",
    "    desired_date = input(\"Enter ending date using format (yyyy-mm-dd) \")  # Replace this with the date you want to enter\n",
    "    formatted_date = convert_date_format(desired_date)\n",
    "    date_input.send_keys(formatted_date)\n",
    "\n",
    "    # Trigger the 'onchange' event (optional, if the date input has any event tied to it)\n",
    "    date_input.send_keys(Keys.TAB)\n",
    "\n",
    "    # Wait for a short time (optional, you can adjust this based on the page's behavior)\n",
    "    time.sleep(1)"
   ]
  },
  {
   "cell_type": "code",
   "execution_count": 7,
   "id": "f6201539",
   "metadata": {},
   "outputs": [],
   "source": [
    "driver.find_element(By.ID, '_g_gpdp5_search_GGpdp5SearchPortlet_bottoneArgomento').click()\n",
    "time.sleep(1.5)"
   ]
  },
  {
   "cell_type": "code",
   "execution_count": 8,
   "id": "696b9311",
   "metadata": {},
   "outputs": [],
   "source": [
    "driver.find_element(By.ID, '8963834_anchor').click()\n",
    "time.sleep(1.5)"
   ]
  },
  {
   "cell_type": "code",
   "execution_count": 10,
   "id": "8fbf15f0",
   "metadata": {},
   "outputs": [],
   "source": [
    "driver.find_element(By.ID, '_g_gpdp5_search_GGpdp5SearchPortlet_bottoneArgomento').click()\n",
    "time.sleep(1)\n",
    "driver.find_element(By.ID, '_g_gpdp5_search_GGpdp5SearchPortlet_').click()"
   ]
  },
  {
   "cell_type": "code",
   "execution_count": 20,
   "id": "1b5a4b63",
   "metadata": {
    "collapsed": true
   },
   "outputs": [
    {
     "name": "stdout",
     "output_type": "stream",
     "text": [
      "Enter 1 to select the category : 1\n",
      "Select the number for option you want to select : \n",
      "\n",
      "1   Audizioni e memorie(77)\n",
      "2   Codice di condotta(7)\n",
      "3   Documenti(1256)\n",
      "4   Giurisprudenza(38)\n",
      "5   Iniziative ed eventi(200)\n",
      "6   Normativa(262)\n",
      "7   Provvedimenti(11539)\n",
      "8   Pubblicazioni(475)\n",
      "9   Regole deontologiche(1)\n",
      "10   Segnalazione al Parlamento e al Governo e note istituzionali(40)\n",
      "11   Stampa e comunicazione(3262)\n",
      "12   Trasparenza(1468)\n",
      "Enter option number : 3\n",
      "Enter 0 to complete selection or else enter 1 to select more-->0\n"
     ]
    }
   ],
   "source": [
    "option = int(input(\"Enter 1 to select the category : \"))\n",
    "if option == 1:\n",
    "    print(\"Select the number for option you want to select : \\n\")\n",
    "    c = 1\n",
    "    for i in driver.find_elements(By.CLASS_NAME, 'jstree-anchor'):\n",
    "        if(i.text != ''):\n",
    "            print(c, \" \" , i.text)\n",
    "            c+=1\n",
    "    \n",
    "    while True:\n",
    "        val = int(input(\"Enter option number : \"))\n",
    "        driver.find_elements(By.CLASS_NAME, 'jstree-anchor')[val -1].click()\n",
    "        decision = int(input(\"Enter 0 to complete selection or else enter 1 to select more-->\"))\n",
    "        \n",
    "        if decision == 0:\n",
    "            break     "
   ]
  },
  {
   "cell_type": "code",
   "execution_count": 21,
   "id": "86bd95a1",
   "metadata": {},
   "outputs": [],
   "source": [
    "time.sleep(3)\n",
    "driver.find_element(By.CLASS_NAME, 'btn.w-100.btn-secondary.bg-grigio-filtro.submitRicerca.text-uppercase').click()"
   ]
  },
  {
   "cell_type": "code",
   "execution_count": 22,
   "id": "98ebab72",
   "metadata": {},
   "outputs": [],
   "source": [
    "time.sleep(5)"
   ]
  },
  {
   "cell_type": "code",
   "execution_count": 23,
   "id": "6d8187b7",
   "metadata": {},
   "outputs": [
    {
     "name": "stdout",
     "output_type": "stream",
     "text": [
      "Enter the query to search : sostituzione di referto\n"
     ]
    }
   ],
   "source": [
    "query = driver.find_element(By.ID, '_g_gpdp5_search_GGpdp5SearchPortlet_text')\n",
    "query.clear()\n",
    "query.send_keys(input(\"Enter the query to search : \"))"
   ]
  },
  {
   "cell_type": "code",
   "execution_count": 24,
   "id": "c46d5a5d",
   "metadata": {},
   "outputs": [],
   "source": [
    "time.sleep(3)\n",
    "driver.find_element(By.CLASS_NAME, 'btn.w-100.btn-secondary.bg-grigio-filtro.submitRicerca.text-uppercase').click()\n",
    "time.sleep(2)"
   ]
  },
  {
   "cell_type": "code",
   "execution_count": 25,
   "id": "13e9b25b",
   "metadata": {},
   "outputs": [],
   "source": [
    "while True:\n",
    "    time.sleep(4)\n",
    "    for i in driver.find_elements(By.CLASS_NAME, 'titolo-risultato.text-justify'):\n",
    "        title.append(i.get_attribute('title'))\n",
    "        link.append(i.get_attribute('href'))\n",
    "    if(driver.find_elements(By.CLASS_NAME, 'page-item')[len(driver.find_elements(By.CLASS_NAME, 'page-item')) -1].text == '>'):\n",
    "        driver.find_elements(By.CLASS_NAME, 'page-item')[len(driver.find_elements(By.CLASS_NAME, 'page-item')) -1].click()\n",
    "    else:\n",
    "        break"
   ]
  },
  {
   "cell_type": "code",
   "execution_count": 26,
   "id": "e44b29a2",
   "metadata": {},
   "outputs": [],
   "source": [
    "from bs4 import BeautifulSoup\n",
    "import re"
   ]
  },
  {
   "cell_type": "code",
   "execution_count": 27,
   "id": "2615ebea",
   "metadata": {},
   "outputs": [],
   "source": [
    "for i in link:\n",
    "    \n",
    "    driver.get(i)\n",
    "    \n",
    "    time.sleep(1)\n",
    "    \n",
    "    f = False\n",
    "    f2 = False\n",
    "    \n",
    "    for j in driver.find_elements(By.CLASS_NAME, 'col'):\n",
    "        if(j.text.find('Data') != -1):\n",
    "            date.append(j.text.split()[1])\n",
    "            f = True\n",
    "            break\n",
    "    if f == False:\n",
    "        date.append(\"\")\n",
    "    # Parse the HTML content using BeautifulSoup\n",
    "    soup = BeautifulSoup(driver.page_source, 'html.parser')\n",
    "    # Find all form elements\n",
    "    form_elements = soup.find_all('form')\n",
    "\n",
    "    # Define a pattern to match the PDF link in the form action\n",
    "    pattern = r'https:\\/\\/www\\.garanteprivacy\\.it:443\\/pdf\\?p_p_id=PdfUtil.+_PdfUtil_articleId=\\d+'\n",
    "    \n",
    "    for form_element in form_elements:\n",
    "        form_action = form_element.get('action')\n",
    "        match = re.search(pattern, form_action)\n",
    "        if match:\n",
    "            file_link.append(match.group(0))\n",
    "            f2 = True\n",
    "            break\n",
    "    if f2 == False:\n",
    "        file_link.append(\"\")"
   ]
  },
  {
   "cell_type": "code",
   "execution_count": 28,
   "id": "579a3af1",
   "metadata": {},
   "outputs": [],
   "source": [
    "# Create a dictionary to store the data\n",
    "data = {\n",
    "    'Title': title,\n",
    "    'Link': link,\n",
    "    'File_Link': file_link,\n",
    "    'Date': date\n",
    "}\n",
    "\n",
    "# Convert the dictionary to a DataFrame\n",
    "df = pd.DataFrame(data)\n",
    "\n",
    "# Save the DataFrame as a CSV file\n",
    "df.to_csv('data.csv', index=False)\n"
   ]
  },
  {
   "cell_type": "code",
   "execution_count": 29,
   "id": "82489933",
   "metadata": {},
   "outputs": [
    {
     "data": {
      "text/html": [
       "<div>\n",
       "<style scoped>\n",
       "    .dataframe tbody tr th:only-of-type {\n",
       "        vertical-align: middle;\n",
       "    }\n",
       "\n",
       "    .dataframe tbody tr th {\n",
       "        vertical-align: top;\n",
       "    }\n",
       "\n",
       "    .dataframe thead th {\n",
       "        text-align: right;\n",
       "    }\n",
       "</style>\n",
       "<table border=\"1\" class=\"dataframe\">\n",
       "  <thead>\n",
       "    <tr style=\"text-align: right;\">\n",
       "      <th></th>\n",
       "      <th>Title</th>\n",
       "      <th>Link</th>\n",
       "      <th>File_Link</th>\n",
       "      <th>Date</th>\n",
       "    </tr>\n",
       "  </thead>\n",
       "  <tbody>\n",
       "    <tr>\n",
       "      <th>0</th>\n",
       "      <td>Ordinanza ingiunzione nei confronti di Azienda...</td>\n",
       "      <td>https://www.garanteprivacy.it/web/guest/home/d...</td>\n",
       "      <td>https://www.garanteprivacy.it:443/pdf?p_p_id=P...</td>\n",
       "      <td>26/01/23</td>\n",
       "    </tr>\n",
       "    <tr>\n",
       "      <th>1</th>\n",
       "      <td>Ordinanza ingiunzione nei confronti di Azienda...</td>\n",
       "      <td>https://www.garanteprivacy.it/web/guest/home/d...</td>\n",
       "      <td>https://www.garanteprivacy.it:443/pdf?p_p_id=P...</td>\n",
       "      <td>27/01/21</td>\n",
       "    </tr>\n",
       "    <tr>\n",
       "      <th>2</th>\n",
       "      <td>Ordinanza ingiunzione nei confronti di Casa di...</td>\n",
       "      <td>https://www.garanteprivacy.it/web/guest/home/d...</td>\n",
       "      <td>https://www.garanteprivacy.it:443/pdf?p_p_id=P...</td>\n",
       "      <td>02/12/21</td>\n",
       "    </tr>\n",
       "    <tr>\n",
       "      <th>3</th>\n",
       "      <td>Ordinanza ingiunzione nei confronti di Società...</td>\n",
       "      <td>https://www.garanteprivacy.it/web/guest/home/d...</td>\n",
       "      <td>https://www.garanteprivacy.it:443/pdf?p_p_id=P...</td>\n",
       "      <td>02/12/21</td>\n",
       "    </tr>\n",
       "    <tr>\n",
       "      <th>4</th>\n",
       "      <td>Provvedimento del 9 luglio 2020 [9440117]</td>\n",
       "      <td>https://www.garanteprivacy.it/web/guest/home/d...</td>\n",
       "      <td>https://www.garanteprivacy.it:443/pdf?p_p_id=P...</td>\n",
       "      <td>09/07/20</td>\n",
       "    </tr>\n",
       "    <tr>\n",
       "      <th>5</th>\n",
       "      <td>Provvedimento del 13 aprile 2023 [9909566]</td>\n",
       "      <td>https://www.garanteprivacy.it/web/guest/home/d...</td>\n",
       "      <td>https://www.garanteprivacy.it:443/pdf?p_p_id=P...</td>\n",
       "      <td>13/04/23</td>\n",
       "    </tr>\n",
       "    <tr>\n",
       "      <th>6</th>\n",
       "      <td>Ordinanza ingiunzione nei confronti di Azienda...</td>\n",
       "      <td>https://www.garanteprivacy.it/web/guest/home/d...</td>\n",
       "      <td>https://www.garanteprivacy.it:443/pdf?p_p_id=P...</td>\n",
       "      <td>20/10/22</td>\n",
       "    </tr>\n",
       "    <tr>\n",
       "      <th>7</th>\n",
       "      <td>Ordinanza ingiunzione nei confronti di Azienda...</td>\n",
       "      <td>https://www.garanteprivacy.it/web/guest/home/d...</td>\n",
       "      <td>https://www.garanteprivacy.it:443/pdf?p_p_id=P...</td>\n",
       "      <td>11/03/21</td>\n",
       "    </tr>\n",
       "    <tr>\n",
       "      <th>8</th>\n",
       "      <td>Ordinanza ingiunzione nei confronti di Società...</td>\n",
       "      <td>https://www.garanteprivacy.it/web/guest/home/d...</td>\n",
       "      <td>https://www.garanteprivacy.it:443/pdf?p_p_id=P...</td>\n",
       "      <td>28/10/21</td>\n",
       "    </tr>\n",
       "    <tr>\n",
       "      <th>9</th>\n",
       "      <td>Ordinanza ingiunzione nei confronti di Azienda...</td>\n",
       "      <td>https://www.garanteprivacy.it/web/guest/home/d...</td>\n",
       "      <td>https://www.garanteprivacy.it:443/pdf?p_p_id=P...</td>\n",
       "      <td>02/12/21</td>\n",
       "    </tr>\n",
       "    <tr>\n",
       "      <th>10</th>\n",
       "      <td>Dossier sanitario e trattamento dei dati perso...</td>\n",
       "      <td>https://www.garanteprivacy.it/web/guest/home/d...</td>\n",
       "      <td>https://www.garanteprivacy.it:443/pdf?p_p_id=P...</td>\n",
       "      <td>10/01/13</td>\n",
       "    </tr>\n",
       "    <tr>\n",
       "      <th>11</th>\n",
       "      <td>Parere sullo schema di decreto del Ministero d...</td>\n",
       "      <td>https://www.garanteprivacy.it/web/guest/home/d...</td>\n",
       "      <td>https://www.garanteprivacy.it:443/pdf?p_p_id=P...</td>\n",
       "      <td>08/06/23</td>\n",
       "    </tr>\n",
       "  </tbody>\n",
       "</table>\n",
       "</div>"
      ],
      "text/plain": [
       "                                                Title  \\\n",
       "0   Ordinanza ingiunzione nei confronti di Azienda...   \n",
       "1   Ordinanza ingiunzione nei confronti di Azienda...   \n",
       "2   Ordinanza ingiunzione nei confronti di Casa di...   \n",
       "3   Ordinanza ingiunzione nei confronti di Società...   \n",
       "4           Provvedimento del 9 luglio 2020 [9440117]   \n",
       "5          Provvedimento del 13 aprile 2023 [9909566]   \n",
       "6   Ordinanza ingiunzione nei confronti di Azienda...   \n",
       "7   Ordinanza ingiunzione nei confronti di Azienda...   \n",
       "8   Ordinanza ingiunzione nei confronti di Società...   \n",
       "9   Ordinanza ingiunzione nei confronti di Azienda...   \n",
       "10  Dossier sanitario e trattamento dei dati perso...   \n",
       "11  Parere sullo schema di decreto del Ministero d...   \n",
       "\n",
       "                                                 Link  \\\n",
       "0   https://www.garanteprivacy.it/web/guest/home/d...   \n",
       "1   https://www.garanteprivacy.it/web/guest/home/d...   \n",
       "2   https://www.garanteprivacy.it/web/guest/home/d...   \n",
       "3   https://www.garanteprivacy.it/web/guest/home/d...   \n",
       "4   https://www.garanteprivacy.it/web/guest/home/d...   \n",
       "5   https://www.garanteprivacy.it/web/guest/home/d...   \n",
       "6   https://www.garanteprivacy.it/web/guest/home/d...   \n",
       "7   https://www.garanteprivacy.it/web/guest/home/d...   \n",
       "8   https://www.garanteprivacy.it/web/guest/home/d...   \n",
       "9   https://www.garanteprivacy.it/web/guest/home/d...   \n",
       "10  https://www.garanteprivacy.it/web/guest/home/d...   \n",
       "11  https://www.garanteprivacy.it/web/guest/home/d...   \n",
       "\n",
       "                                            File_Link      Date  \n",
       "0   https://www.garanteprivacy.it:443/pdf?p_p_id=P...  26/01/23  \n",
       "1   https://www.garanteprivacy.it:443/pdf?p_p_id=P...  27/01/21  \n",
       "2   https://www.garanteprivacy.it:443/pdf?p_p_id=P...  02/12/21  \n",
       "3   https://www.garanteprivacy.it:443/pdf?p_p_id=P...  02/12/21  \n",
       "4   https://www.garanteprivacy.it:443/pdf?p_p_id=P...  09/07/20  \n",
       "5   https://www.garanteprivacy.it:443/pdf?p_p_id=P...  13/04/23  \n",
       "6   https://www.garanteprivacy.it:443/pdf?p_p_id=P...  20/10/22  \n",
       "7   https://www.garanteprivacy.it:443/pdf?p_p_id=P...  11/03/21  \n",
       "8   https://www.garanteprivacy.it:443/pdf?p_p_id=P...  28/10/21  \n",
       "9   https://www.garanteprivacy.it:443/pdf?p_p_id=P...  02/12/21  \n",
       "10  https://www.garanteprivacy.it:443/pdf?p_p_id=P...  10/01/13  \n",
       "11  https://www.garanteprivacy.it:443/pdf?p_p_id=P...  08/06/23  "
      ]
     },
     "execution_count": 29,
     "metadata": {},
     "output_type": "execute_result"
    }
   ],
   "source": [
    "df"
   ]
  },
  {
   "cell_type": "code",
   "execution_count": null,
   "id": "220b4eb5",
   "metadata": {},
   "outputs": [],
   "source": []
  },
  {
   "cell_type": "code",
   "execution_count": null,
   "id": "fdf06751",
   "metadata": {},
   "outputs": [],
   "source": []
  }
 ],
 "metadata": {
  "kernelspec": {
   "display_name": "Python 3 (ipykernel)",
   "language": "python",
   "name": "python3"
  },
  "language_info": {
   "codemirror_mode": {
    "name": "ipython",
    "version": 3
   },
   "file_extension": ".py",
   "mimetype": "text/x-python",
   "name": "python",
   "nbconvert_exporter": "python",
   "pygments_lexer": "ipython3",
   "version": "3.9.13"
  }
 },
 "nbformat": 4,
 "nbformat_minor": 5
}
